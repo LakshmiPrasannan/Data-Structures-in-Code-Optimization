{
  "nbformat": 4,
  "nbformat_minor": 0,
  "metadata": {
    "colab": {
      "name": "Data Structures in code optimization .ipynb",
      "provenance": [],
      "authorship_tag": "ABX9TyNljknd8wGs51TTPdTiX5fE",
      "include_colab_link": true
    },
    "kernelspec": {
      "name": "python3",
      "display_name": "Python 3"
    }
  },
  "cells": [
    {
      "cell_type": "markdown",
      "metadata": {
        "id": "view-in-github",
        "colab_type": "text"
      },
      "source": [
        "<a href=\"https://colab.research.google.com/github/LakshmiPrasannan/Data-Structures-in-Code-Optimization/blob/master/Data_Structures_in_code_optimization_.ipynb\" target=\"_parent\"><img src=\"https://colab.research.google.com/assets/colab-badge.svg\" alt=\"Open In Colab\"/></a>"
      ]
    },
    {
      "cell_type": "markdown",
      "metadata": {
        "id": "PLDyUYxdXVIO",
        "colab_type": "text"
      },
      "source": [
        "# Understanding how the use of righ data structure helps in Code Optimization\n",
        "\n"
      ]
    },
    {
      "cell_type": "markdown",
      "metadata": {
        "id": "f68faBD_Xg0p",
        "colab_type": "text"
      },
      "source": [
        "The task we are about to perform is to find commond elements between two datapoints. \n",
        "> Datasets are:\n",
        ">> 1. all_coding_books.txt: contains the id of all the books written about coding in last two years\n",
        ">> 2. books_published_last_two_years.txt: contains the id of all books written in the last two years\n"
      ]
    },
    {
      "cell_type": "markdown",
      "metadata": {
        "id": "6LKIPArMYTKw",
        "colab_type": "text"
      },
      "source": [
        "> The first easily understood method that comes to our mind will be to store the data in two lists, compare the lists using for loop"
      ]
    },
    {
      "cell_type": "code",
      "metadata": {
        "id": "JSncdsIYYvyx",
        "colab_type": "code",
        "colab": {}
      },
      "source": [
        "#Import libraries\n",
        "import time\n",
        "import pandas as pd\n",
        "import numpy as np"
      ],
      "execution_count": 0,
      "outputs": []
    },
    {
      "cell_type": "code",
      "metadata": {
        "id": "jivZjLmtU8DO",
        "colab_type": "code",
        "colab": {}
      },
      "source": [
        "#Store both the file data to a csv as a list\n",
        "with open('books_published_last_two_years.txt') as f:\n",
        "    recent_books = f.read().split('\\n')\n",
        "    \n",
        "with open('all_coding_books.txt') as f:\n",
        "    coding_books = f.read().split('\\n')"
      ],
      "execution_count": 0,
      "outputs": []
    },
    {
      "cell_type": "code",
      "metadata": {
        "id": "9rJglCbrY-mx",
        "colab_type": "code",
        "colab": {
          "base_uri": "https://localhost:8080/",
          "height": 52
        },
        "outputId": "b79dfeb4-7f02-4581-f789-6f7a2b19c18b"
      },
      "source": [
        "start = time.time()\n",
        "recent_coding_books = []\n",
        "\n",
        "for book in recent_books:\n",
        "    if book in coding_books:\n",
        "      recent_coding_books.append(book)\n",
        "print(\"There are \" + str(len(recent_coding_books)) + \" coding books released recently\")\n",
        "print('Duration: {} seconds'.format(time.time() - start))"
      ],
      "execution_count": 3,
      "outputs": [
        {
          "output_type": "stream",
          "text": [
            "There are 96 coding books released recently\n",
            "Duration: 11.54421329498291 seconds\n"
          ],
          "name": "stdout"
        }
      ]
    },
    {
      "cell_type": "markdown",
      "metadata": {
        "id": "PFWAVezKec6X",
        "colab_type": "text"
      },
      "source": [
        "Let's try using the data structure of sets instead of lists to improve the speed of search\n",
        "> Note: While using sets we can also use the vector function intersection to check for common elements."
      ]
    },
    {
      "cell_type": "code",
      "metadata": {
        "id": "KKj0hS4qeMm8",
        "colab_type": "code",
        "colab": {
          "base_uri": "https://localhost:8080/",
          "height": 52
        },
        "outputId": "a34f7121-c98f-4901-ead4-f5833a7483ce"
      },
      "source": [
        "start = time.time()\n",
        "recent_coding_books = set(recent_books).intersection(coding_books)\n",
        "print(\"There are \" + str(len(recent_coding_books)) + \" coding books released recently\")\n",
        "print('Duration: {} seconds'.format(time.time() - start))\n",
        "\n"
      ],
      "execution_count": 4,
      "outputs": [
        {
          "output_type": "stream",
          "text": [
            "There are 96 coding books released recently\n",
            "Duration: 0.011107206344604492 seconds\n"
          ],
          "name": "stdout"
        }
      ]
    },
    {
      "cell_type": "markdown",
      "metadata": {
        "id": "j6WMDI_yfQvH",
        "colab_type": "text"
      },
      "source": [
        "**Observation:** Using of sets is more efficient in terms of time in this case. "
      ]
    }
  ]
}